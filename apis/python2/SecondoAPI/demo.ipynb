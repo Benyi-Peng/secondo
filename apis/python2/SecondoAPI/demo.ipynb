{
 "cells": [
  {
   "cell_type": "code",
   "execution_count": null,
   "metadata": {},
   "outputs": [],
   "source": [
    "import import_ipynb\n",
    "import asyncio\n",
    "from PySecondo import *\n"
   ]
  },
  {
   "cell_type": "code",
   "execution_count": null,
   "metadata": {},
   "outputs": [],
   "source": [
    "scn = Secondo()"
   ]
  },
  {
   "cell_type": "code",
   "execution_count": null,
   "metadata": {
    "scrolled": true
   },
   "outputs": [],
   "source": [
    "\n",
    "#pyreceive\n",
    "#comm = 'let ReviewsSchema10 = [const rel(tuple([Plz: int, Ort: string])) value ()]'\n",
    "#com = 'let Reviews = ReviewsSchema10 pyreceive[30000] consume'\n",
    "#com = 'query Reviews feed consume'\n",
    "#com = 'sql select * from Reviews'\n",
    "\n",
    "#pyreceive\n",
    "#tupels = [[1059,\"Dresden\"], [1060,\"Dresden\"], [1001,\"Dresden\"], [1002,\"Dresden\"], [1003,\"Dresden\"],[1004,\"Dresden\"],[1005,\"Dresden\"],[1006,\"Dresden\"],[1007,\"Dresden\"],[1008,\"Dresden\"]]\n",
    "#com = 'let testrel29 = [ const rel(tuple([Plz: int, Ort: string])) value() ] pyreceive[30000] consume'\n",
    "#result = await scn.command_exec(com, tupel_source = tupels)\n",
    "\n",
    "\n",
    "#comm = 'query plz feed head[20] pysend[30000] consume'\n",
    "\n",
    "#comm = 'open database berlintest'\n",
    "#comm = 'let testrel37 = [ const rel(tuple([Plz: int, Ort: string])) value() ]'\n",
    "#comm = 'delete testrel29'\n",
    "#comm = 'query Staedte feed filter[(.Bev > 250000)] count'\n",
    "#comm = 'sql select * from staedte where bev > 250000'\n",
    "comm = 'sql select * from testrel29'\n",
    "#comm = 'close database'\n",
    "#comm = 'query testrel29 feed consume'\n",
    "\n",
    "result = await scn.command_exec(comm)\n",
    "\n",
    "\n",
    "print(scn.fetch_result_type())\n",
    "print(scn.fetch_result_rows())\n",
    "#scn.parse_result_to_relation()\n",
    "#scn.parse_result_to_secondo_int()\n",
    "\n",
    "\n",
    "#pysend\n",
    "#for item in scn.fetch_stream_result():\n",
    "    #print(item)\n",
    "#scn.parse_stream_result_to_relation()"
   ]
  },
  {
   "cell_type": "code",
   "execution_count": null,
   "metadata": {},
   "outputs": [],
   "source": [
    "\n",
    "#com = 'list algebras'\n",
    "#com = 'list algebra PyStreamAlgebra'\n",
    "#com = 'restore database berlintest from berlintest'\n",
    "\n",
    "\n",
    "#print(result)\n",
    "#print(scn.fetch_result())\n",
    "#print(scn.fetch_result_type())\n",
    "#print(scn.fetch_result_rows())\n",
    "\n",
    "\n",
    "\n",
    "#scn.parse_result_to_secondo_int()\n",
    "#scn.parse_result_to_relation()\n",
    "\n",
    "\n",
    "\n",
    "#pysend\n",
    "#for item in scn.fetch_stream_result():\n",
    "    #print(item)\n",
    "#scn.parse_stream_result_to_relation()\n"
   ]
  },
  {
   "cell_type": "code",
   "execution_count": null,
   "metadata": {},
   "outputs": [],
   "source": [
    "#scn.close()"
   ]
  },
  {
   "cell_type": "code",
   "execution_count": null,
   "metadata": {},
   "outputs": [],
   "source": []
  },
  {
   "cell_type": "code",
   "execution_count": null,
   "metadata": {},
   "outputs": [],
   "source": []
  }
 ],
 "metadata": {
  "kernelspec": {
   "display_name": "Python 3",
   "language": "python",
   "name": "python3"
  },
  "language_info": {
   "codemirror_mode": {
    "name": "ipython",
    "version": 3
   },
   "file_extension": ".py",
   "mimetype": "text/x-python",
   "name": "python",
   "nbconvert_exporter": "python",
   "pygments_lexer": "ipython3",
   "version": "3.7.4"
  }
 },
 "nbformat": 4,
 "nbformat_minor": 2
}

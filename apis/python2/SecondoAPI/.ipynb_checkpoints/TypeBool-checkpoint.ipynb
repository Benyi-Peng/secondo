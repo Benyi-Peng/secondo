{
 "cells": [
  {
   "cell_type": "code",
   "execution_count": null,
   "metadata": {},
   "outputs": [],
   "source": []
  },
  {
   "cell_type": "code",
   "execution_count": 10,
   "metadata": {
    "scrolled": true
   },
   "outputs": [
    {
     "ename": "NameError",
     "evalue": "name 'GeneralType' is not defined",
     "output_type": "error",
     "traceback": [
      "\u001b[0;31m---------------------------------------------------------------------------\u001b[0m",
      "\u001b[0;31mNameError\u001b[0m                                 Traceback (most recent call last)",
      "\u001b[0;32m<ipython-input-10-bf4c0519303d>\u001b[0m in \u001b[0;36m<module>\u001b[0;34m\u001b[0m\n\u001b[1;32m      4\u001b[0m \u001b[0;31m#from GeneralType import *\u001b[0m\u001b[0;34m\u001b[0m\u001b[0;34m\u001b[0m\u001b[0;34m\u001b[0m\u001b[0m\n\u001b[1;32m      5\u001b[0m \u001b[0;34m\u001b[0m\u001b[0m\n\u001b[0;32m----> 6\u001b[0;31m \u001b[0;32mclass\u001b[0m \u001b[0mTypeBool\u001b[0m\u001b[0;34m(\u001b[0m\u001b[0mGeneralType\u001b[0m\u001b[0;34m)\u001b[0m\u001b[0;34m:\u001b[0m\u001b[0;34m\u001b[0m\u001b[0;34m\u001b[0m\u001b[0m\n\u001b[0m\u001b[1;32m      7\u001b[0m \u001b[0;34m\u001b[0m\u001b[0m\n\u001b[1;32m      8\u001b[0m     \u001b[0;32mdef\u001b[0m \u001b[0m__init__\u001b[0m\u001b[0;34m(\u001b[0m\u001b[0mself\u001b[0m\u001b[0;34m)\u001b[0m\u001b[0;34m:\u001b[0m\u001b[0;34m\u001b[0m\u001b[0;34m\u001b[0m\u001b[0m\n",
      "\u001b[0;31mNameError\u001b[0m: name 'GeneralType' is not defined"
     ]
    }
   ],
   "source": [
    "import import_ipynb\n",
    "import sys\n",
    "sys.path.append('/Users/mahsa/Desktop/Secondo2Python/Python-Code-Secondo')\n",
    "#from GeneralType import *\n",
    "\n",
    "class TypeBool(GeneralType):\n",
    "    \n",
    "    def __init__(self):\n",
    "        super().__init__()\n",
    "    \n",
    "    #def __init__(self, value = None, defined = None):\n",
    "     #   if value is not None:\n",
    "            #self.value = value\n",
    "      #  if defined is None or defined == True:\n",
    "            #self.defined = True\n",
    "       # else:\n",
    "        #    self.defined = False\n",
    "        #super().__init__(value, defined)\n",
    "       \n",
    "   \n",
    "    #def __hash__(self):\n",
    "     #   return 1231 if self.value else 1237\n",
    "    \n",
    "    \n",
    "    def __str__(self):\n",
    "        return \"(bool \" + str(self.value).upper() + \")\"\n",
    "    \n",
    "    def parse(text):\n",
    "        if \"true\" == text.lower():\n",
    "            result = TypeBool(True)\n",
    "        elif \"false\" == text.lower():\n",
    "            result = TypeBool(False)\n",
    "        return result\n",
    "    \n",
    "    def setValue(self,value):\n",
    "        self.value = value\n",
    "    \n",
    "    def getValue(self):\n",
    "        return self.value\n",
    "    \n",
    "    def setDefined(self,value):\n",
    "        self.defined = defined\n",
    "    \n",
    "    def getDefined(self):\n",
    "        return self.defined\n",
    "    \n"
   ]
  },
  {
   "cell_type": "code",
   "execution_count": 64,
   "metadata": {},
   "outputs": [
    {
     "name": "stdout",
     "output_type": "stream",
     "text": [
      "True\n",
      "False\n",
      "True\n",
      "b lower than c.\n"
     ]
    }
   ],
   "source": [
    "b = TypeBool(True, True)\n",
    "print(b.getValue())\n",
    "l = [False]\n",
    "b.InfromList(l)\n",
    "print(b.getValue())\n",
    "l = [True]\n",
    "b.InfromList(l)\n",
    "print(b.getValue())\n",
    "c = TypeBool(False, True)\n",
    "if b == c:\n",
    "    print(\"b and c are equal.\")\n",
    "if c < b:\n",
    "    print(\"b lower than c.\")"
   ]
  },
  {
   "cell_type": "code",
   "execution_count": 48,
   "metadata": {},
   "outputs": [],
   "source": []
  },
  {
   "cell_type": "code",
   "execution_count": null,
   "metadata": {},
   "outputs": [],
   "source": []
  }
 ],
 "metadata": {
  "kernelspec": {
   "display_name": "Python 3",
   "language": "python",
   "name": "python3"
  },
  "language_info": {
   "codemirror_mode": {
    "name": "ipython",
    "version": 3
   },
   "file_extension": ".py",
   "mimetype": "text/x-python",
   "name": "python",
   "nbconvert_exporter": "python",
   "pygments_lexer": "ipython3",
   "version": "3.7.4"
  }
 },
 "nbformat": 4,
 "nbformat_minor": 2
}

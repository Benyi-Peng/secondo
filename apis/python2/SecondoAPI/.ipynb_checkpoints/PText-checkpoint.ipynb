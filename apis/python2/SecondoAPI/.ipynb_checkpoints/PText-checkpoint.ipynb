{
 "cells": [
  {
   "cell_type": "code",
   "execution_count": 1,
   "metadata": {},
   "outputs": [
    {
     "name": "stdout",
     "output_type": "stream",
     "text": [
      "importing Jupyter notebook from PGenType.ipynb\n",
      "importing Jupyter notebook from PGenObject.ipynb\n"
     ]
    }
   ],
   "source": [
    "import import_ipynb\n",
    "from PGenType import *\n",
    "from PGenObject import *\n",
    "\n",
    "class PText(PGenType):\n",
    "    \n",
    "    PREFIX = \"<text>\"\n",
    "    SUFFIX = \"</text--->\"\n",
    "    \n",
    "    def __init__(self, value = None, defined = None):\n",
    "        super(PText, self).__init__(value, defined)\n",
    "        self.PREFIX = \"<text>\"\n",
    "        self.SUFFIX = \"</text--->\"\n",
    "    \n",
    "    def getTypeName(self):\n",
    "        return 'text'\n",
    "            \n",
    "    def getTypeClass(self):\n",
    "        return self.__class__.__name__\n",
    "    \n",
    "    def InFromList(self, NList):\n",
    "        assert len(NList) >= 1, 'The list must contain at least one element!'\n",
    "        value = NList[0] if not NList[0].startswith(self.PREFIX) else NList[0][len(self.PREFIX):]\n",
    "        value = value if not value.endswith(self.SUFFIX) else value[:-len(self.SUFFIX)]\n",
    "        self.setValue(value)\n",
    "        if len(NList) >= 2:\n",
    "            self.setDefined(NList[1])\n",
    "        \n",
    "    def OutToList(self):\n",
    "        value = self.PREFIX + self.getValue() + self.SUFFIX\n",
    "        NList = []\n",
    "        NList.append(value)\n",
    "        return NList\n",
    "    \n",
    "    \n",
    "    def __str__(self):\n",
    "        if self.getValue() == None:\n",
    "            return \"(text undefined)\"\n",
    "        return \"(text \" + str(self.getValue()) + \")\"\n",
    "    \n",
    "    def parse(self, text):\n",
    "        if text is not None:\n",
    "            self.setValue(text)"
   ]
  },
  {
   "cell_type": "code",
   "execution_count": 6,
   "metadata": {},
   "outputs": [],
   "source": [
    "######Test\n",
    "#s1=PText('abs')\n",
    "#print(s1.getValue())\n",
    "#print(s1.getDefined())\n",
    "#l= ['ABS', True]\n",
    "#s1.InFromList(l)\n",
    "#print(s1.getValue())\n",
    "#print(s1.getDefined())\n",
    "#print(s1.OutToList())\n",
    "#s1.parse(\"aabbss\")\n",
    "#print(s1.getValue())\n",
    "#s2=PText('123')\n",
    "#s3 = s1 + s2\n",
    "#print(s3.getValue(), s3.getDefined())"
   ]
  },
  {
   "cell_type": "code",
   "execution_count": null,
   "metadata": {},
   "outputs": [],
   "source": []
  }
 ],
 "metadata": {
  "kernelspec": {
   "display_name": "Python 3",
   "language": "python",
   "name": "python3"
  },
  "language_info": {
   "codemirror_mode": {
    "name": "ipython",
    "version": 3
   },
   "file_extension": ".py",
   "mimetype": "text/x-python",
   "name": "python",
   "nbconvert_exporter": "python",
   "pygments_lexer": "ipython3",
   "version": "3.7.4"
  }
 },
 "nbformat": 4,
 "nbformat_minor": 2
}

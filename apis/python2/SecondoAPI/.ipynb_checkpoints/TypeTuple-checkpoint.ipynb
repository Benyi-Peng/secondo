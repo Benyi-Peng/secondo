{
 "cells": [
  {
   "cell_type": "code",
   "execution_count": 2,
   "metadata": {},
   "outputs": [],
   "source": [
    "import import_ipynb\n",
    "#import GeneralType\n",
    "#import Relation_Attributes\n",
    "\n",
    "class TypeTuple():\n",
    "    \n",
    "    def __init__(self, rel_attribs_list = None, *args):\n",
    "        self.rel_attribs_list = []\n",
    "        if rel_attribs_list is not None:\n",
    "            self.rel_attribs_list = rel_attribs_list\n",
    "        self.attrib_list = [genType for genType in args]\n",
    "    \n",
    "    def add_Attribute(self, genType):\n",
    "        self.attrib_list.append(genType)\n",
    "        \n",
    "    def get_Attribute(self, index):\n",
    "        return self.attrib_list[index]\n",
    "    \n",
    "    def get_Attributes(self):\n",
    "        return self.attrib_list\n",
    "    \n",
    "    def get_rel_Attributes(self):\n",
    "        return self.rel_attribs_list\n",
    "    \n",
    "    def __eq__(self, obj):\n",
    "        if obj == self:\n",
    "            return True\n",
    "        if obj is None:\n",
    "            return False\n",
    "        if not isinstance(obj, TypeTuple):\n",
    "            return False\n",
    "        otherTuple = TypeTuple()\n",
    "        otherTuple = obj\n",
    "        if not(len(self.attrib_list) == len(otherTuple.get_Attributes)):\n",
    "            return False\n",
    "        for idx, att in enumerate(self.attrib_list):\n",
    "            if not(att == otherTuple.get_Attribute(idx)):\n",
    "                return False\n",
    "        return True\n",
    "\n",
    "    # usage: tuple = TypeTuple.create_relAttrib_instance(rel_attribs_list)\n",
    "    @classmethod\n",
    "    def create_relAttrib_instance(cls, rel_attribs_list):\n",
    "        tuple_obj = cls(rel_attribs_list)\n",
    "        return tuple_obj\n"
   ]
  }
 ],
 "metadata": {
  "kernelspec": {
   "display_name": "Python 3",
   "language": "python",
   "name": "python3"
  },
  "language_info": {
   "codemirror_mode": {
    "name": "ipython",
    "version": 3
   },
   "file_extension": ".py",
   "mimetype": "text/x-python",
   "name": "python",
   "nbconvert_exporter": "python",
   "pygments_lexer": "ipython3",
   "version": "3.7.4"
  }
 },
 "nbformat": 4,
 "nbformat_minor": 2
}

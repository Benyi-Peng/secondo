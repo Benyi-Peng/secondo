{
 "cells": [
  {
   "cell_type": "code",
   "execution_count": 1,
   "metadata": {
    "scrolled": true
   },
   "outputs": [
    {
     "name": "stdout",
     "output_type": "stream",
     "text": [
      "importing Jupyter notebook from PGenType.ipynb\n",
      "importing Jupyter notebook from PGenObject.ipynb\n"
     ]
    }
   ],
   "source": [
    "\"\"\"\n",
    "The module secondo_bool defines a class for representing boolean type of Secondo in python.\n",
    "\"\"\"\n",
    "import import_ipynb\n",
    "from secondo_datatypes_pkg.general_type import *\n",
    "\n",
    "class secondo_bool(general_type):\n",
    "    \"\"\"\n",
    "    The class secondo_bool implements the boolean type of Secondo.\n",
    "    \"\"\"\n",
    "    \n",
    "    def __init__(self, value = None, defined = None):\n",
    "        \"\"\"\n",
    "        The constructor of the class.\n",
    "        \n",
    "        :param value: Represents the value of the object and is optional.\n",
    "        :param defined: Shows if the value of the object falls in defined range and is optional.\n",
    "        :return: None.\n",
    "        \"\"\"\n",
    "        if value is not None:\n",
    "            assert type(value) is bool, 'The given value must be of Type bool.'\n",
    "        super(secondo_bool, self).__init__(value, defined)\n",
    "        \n",
    "    def get_type_name(self):\n",
    "        \"\"\"\n",
    "        The getter method of the class secondo_bool.\n",
    "        \n",
    "        :return: Returns the type name of the class secondo_bool.\n",
    "        \"\"\"\n",
    "        return 'bool'\n",
    "            \n",
    "    def get_type_class(self):\n",
    "        \"\"\"\n",
    "        The getter method of the class secondo_bool.\n",
    "        \n",
    "        :return: Returns the type class of the class secondo_bool.\n",
    "        \"\"\"\n",
    "        return self.__class__.__name__\n",
    "            \n",
    "    def __str__(self):\n",
    "        \"\"\"\n",
    "        This method of the class secondo_bool returns the\n",
    "        type and value of the object in a nested list representation by\n",
    "        modifying the magic method __str__.\n",
    "        \n",
    "        :return: Returns a nested list with two elements for type and value of the object.\n",
    "        \"\"\"\n",
    "        return \"(bool \" + str(self.value).upper() + \")\"\n",
    "    \n",
    "    def parse(self, text):\n",
    "        \"\"\"\n",
    "        This method parses a string and constructs an object\n",
    "        of type secondo_bool according to the value parsed from the string.\n",
    "        \n",
    "        :param text: A string containing the value True or False.\n",
    "        :return: Returns the object constructed from the parsed value.\n",
    "        \"\"\"\n",
    "        if \"true\" == text.lower():\n",
    "            result = secondo_bool(True)\n",
    "        elif \"false\" == text.lower():\n",
    "            result = secondo_bool(False)\n",
    "        return result\n"
   ]
  },
  {
   "cell_type": "code",
   "execution_count": 5,
   "metadata": {},
   "outputs": [],
   "source": [
    "#### Test\n",
    "#b = PBool(True,False)\n",
    "#print(b.get_type_class())\n",
    "#print(b.get_value())\n",
    "#print(b.get_defined())\n",
    "#a=PBool(True)\n",
    "#print(a.get_value())\n",
    "#print(a.get_defined())\n",
    "#print(a==b)\n",
    "#print(a.get_type_name())\n",
    "#print(a.get_type_class())\n",
    "#l=[False, False]\n",
    "#a._in_from_list(l)\n",
    "#print(a.get_value())\n",
    "#print(a.get_defined())\n",
    "#print(a._out_to_list())\n",
    "#print(b._out_to_list())\n",
    "#print(a)\n",
    "#c = a.parse(\"false\")\n",
    "#print(c)"
   ]
  },
  {
   "cell_type": "code",
   "execution_count": null,
   "metadata": {},
   "outputs": [],
   "source": []
  }
 ],
 "metadata": {
  "kernelspec": {
   "display_name": "Python 3",
   "language": "python",
   "name": "python3"
  },
  "language_info": {
   "codemirror_mode": {
    "name": "ipython",
    "version": 3
   },
   "file_extension": ".py",
   "mimetype": "text/x-python",
   "name": "python",
   "nbconvert_exporter": "python",
   "pygments_lexer": "ipython3",
   "version": "3.7.4"
  }
 },
 "nbformat": 4,
 "nbformat_minor": 2
}

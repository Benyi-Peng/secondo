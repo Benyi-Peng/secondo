{
 "cells": [
  {
   "cell_type": "code",
   "execution_count": 1,
   "metadata": {
    "scrolled": true
   },
   "outputs": [
    {
     "name": "stdout",
     "output_type": "stream",
     "text": [
      "importing Jupyter notebook from PGenType.ipynb\n",
      "importing Jupyter notebook from PGenObject.ipynb\n"
     ]
    }
   ],
   "source": [
    "import import_ipynb\n",
    "from PGenType import *\n",
    "from PGenObject import *\n",
    "\n",
    "class PBool(PGenType):\n",
    "    \n",
    "    def __init__(self, value = None, defined = None):\n",
    "        super(PBool, self).__init__(value, defined)\n",
    "        \n",
    "    def get_type_name(self):\n",
    "        return 'bool'\n",
    "            \n",
    "    def get_type_class(self):\n",
    "        return self.__class__.__name__\n",
    "            \n",
    "    def __str__(self):\n",
    "        return \"(bool \" + str(self.value).upper() + \")\"\n",
    "    \n",
    "    def parse(self, text):\n",
    "        if \"true\" == text.lower():\n",
    "            result = PBool(True)\n",
    "        elif \"false\" == text.lower():\n",
    "            result = PBool(False)\n",
    "        return result\n"
   ]
  },
  {
   "cell_type": "code",
   "execution_count": 5,
   "metadata": {},
   "outputs": [],
   "source": [
    "#### Test\n",
    "#b = PBool(True,False)\n",
    "#print(b.get_type_class())\n",
    "#print(b.get_value())\n",
    "#print(b.get_defined())\n",
    "#a=PBool(True)\n",
    "#print(a.get_value())\n",
    "#print(a.get_defined())\n",
    "#print(a==b)\n",
    "#print(a.get_type_name())\n",
    "#print(a.get_type_class())\n",
    "#l=[False, False]\n",
    "#a._in_from_list(l)\n",
    "#print(a.get_value())\n",
    "#print(a.get_defined())\n",
    "#print(a._out_to_list())\n",
    "#print(b._out_to_list())\n",
    "#print(a)\n",
    "#c = a.parse(\"false\")\n",
    "#print(c)"
   ]
  },
  {
   "cell_type": "code",
   "execution_count": null,
   "metadata": {},
   "outputs": [],
   "source": []
  }
 ],
 "metadata": {
  "kernelspec": {
   "display_name": "Python 3",
   "language": "python",
   "name": "python3"
  },
  "language_info": {
   "codemirror_mode": {
    "name": "ipython",
    "version": 3
   },
   "file_extension": ".py",
   "mimetype": "text/x-python",
   "name": "python",
   "nbconvert_exporter": "python",
   "pygments_lexer": "ipython3",
   "version": "3.7.4"
  }
 },
 "nbformat": 4,
 "nbformat_minor": 2
}

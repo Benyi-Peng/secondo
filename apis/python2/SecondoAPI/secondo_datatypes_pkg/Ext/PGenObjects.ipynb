{
 "cells": [
  {
   "cell_type": "code",
   "execution_count": 6,
   "metadata": {},
   "outputs": [],
   "source": [
    "#equivalent of MemoryObjects.java\n",
    "import import_ipynb\n",
    "\n",
    "from PGenType import *\n",
    "from PTuple import *\n",
    "from PRelation import *\n",
    "from PInt import *\n",
    "from PReal import *\n",
    "from PBool import *\n",
    "from PString import *\n",
    "from PText import *\n",
    "\n",
    "class Objects(PGenType):\n",
    "    \n",
    "    def __init__(self):\n",
    "        self.cls_name = {'bool':globals()[\"PBool\"],'int':globals()[\"PInt\"],'float':globals()[\"PReal\"],'String':globals()[\"PString\"],'Text':globals()[\"PText\"],'Tuple':globals()[\"PTuple\"],'General_Type':globals()[\"PGenType\"], 'Relation':globals()[\"PRelation\"]}\n",
    "        # 'Relation':globals()[\"PRelation\"]\n",
    "        \n",
    "    def get_type_name(self, typeClass):\n",
    "        \n",
    "        for k,v in self.cls_name.items():\n",
    "            if v == typeClass: \n",
    "                return k\n",
    "        return None\n",
    "    def get_type_class(self, typeName):\n",
    "        try:\n",
    "            return self.cls_name[typeName].__name__\n",
    "        except KeyError:\n",
    "            return None\n"
   ]
  },
  {
   "cell_type": "code",
   "execution_count": null,
   "metadata": {},
   "outputs": [],
   "source": []
  }
 ],
 "metadata": {
  "kernelspec": {
   "display_name": "Python 3",
   "language": "python",
   "name": "python3"
  },
  "language_info": {
   "codemirror_mode": {
    "name": "ipython",
    "version": 3
   },
   "file_extension": ".py",
   "mimetype": "text/x-python",
   "name": "python",
   "nbconvert_exporter": "python",
   "pygments_lexer": "ipython3",
   "version": "3.7.4"
  }
 },
 "nbformat": 4,
 "nbformat_minor": 2
}

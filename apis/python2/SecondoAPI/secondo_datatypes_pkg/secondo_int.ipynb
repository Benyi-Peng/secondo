{
 "cells": [
  {
   "cell_type": "code",
   "execution_count": 2,
   "metadata": {},
   "outputs": [
    {
     "name": "stdout",
     "output_type": "stream",
     "text": [
      "importing Jupyter notebook from PGenType.ipynb\n",
      "importing Jupyter notebook from PGenObject.ipynb\n"
     ]
    }
   ],
   "source": [
    "\"\"\"\n",
    "The module secondo_int defines a class for representing int type of Secondo in python.\n",
    "\"\"\"\n",
    "import import_ipynb\n",
    "from secondo_datatypes_pkg.general_type import *\n",
    "from libs_pkg.exception_handler import *\n",
    "\n",
    "class secondo_int(general_type):\n",
    "    \"\"\"\n",
    "    The class secondo_int implements the boolean type of Secondo.\n",
    "    \"\"\"\n",
    "    def __init__(self, value = None, defined = None):\n",
    "        \"\"\"\n",
    "        The constructor of the class.\n",
    "        \n",
    "        :param value: Represents the value of the object and is optional.\n",
    "        :param defined: Shows if the value of the object falls in defined range and is optional.\n",
    "        :return: None.\n",
    "        \"\"\"\n",
    "        if value is not None:\n",
    "            if not isinstance(value, int):\n",
    "                raise SecondoAPI_Error('The given parameter is not of type int.')\n",
    "        if defined is not None:\n",
    "            if not isinstance(defined, bool):\n",
    "                raise SecondoAPI_Error('The given parameter is not of type bool.')\n",
    "        super(secondo_int, self).__init__(value, defined)\n",
    "        \n",
    "    \n",
    "    def get_type_name(self):\n",
    "        \"\"\"\n",
    "        The getter method of the class secondo_int.\n",
    "        \n",
    "        :return: Returns the type name of the class secondo_int.\n",
    "        \"\"\"\n",
    "        return 'int'\n",
    "            \n",
    "    def get_type_class(self):\n",
    "        \"\"\"\n",
    "        The getter method of the class secondo_int.\n",
    "        \n",
    "        :return: Returns the type class of the class secondo_int.\n",
    "        \"\"\"\n",
    "        return self.__class__.__name__\n",
    "            \n",
    "    def __str__(self):\n",
    "        \"\"\"\n",
    "        This method of the class secondo_int returns the\n",
    "        type and value of the object in a nested list representation by\n",
    "        modifying the magic method __str__.\n",
    "        \n",
    "        :return: Returns a nested list with two elements for type and value of the object.\n",
    "        \"\"\"\n",
    "        return \"(int \" + str(self.get_value()) + \")\"\n",
    "    \n",
    "    def parse(self, item):\n",
    "        \"\"\"\n",
    "        This method parses a string containing an integer value \n",
    "        and constructs an object of type secondo_int according to the\n",
    "        value parsed from the string.\n",
    "        \n",
    "        :param text: A string containing an integer value.\n",
    "        :return: Returns the object constructed from the parsed value.\n",
    "        \"\"\"\n",
    "        value = int(item)\n",
    "        result = secondo_int(value)\n",
    "        return result\n",
    "    \n",
    "    def to_float(self):\n",
    "        \"\"\"\n",
    "        This method returns the converted value of the object of type\n",
    "        secondo_int to type float.\n",
    "        \n",
    "        :return: Returns the converted value of the object of type\n",
    "        secondo_int to type float.\n",
    "        \"\"\"\n",
    "        return float(self.get_value())\n",
    "   \n",
    "    "
   ]
  },
  {
   "cell_type": "code",
   "execution_count": 6,
   "metadata": {},
   "outputs": [
    {
     "name": "stdout",
     "output_type": "stream",
     "text": [
      "4\n",
      "True\n",
      "4\n",
      "True\n",
      "True\n",
      "int\n",
      "PInt\n",
      "10\n",
      "False\n",
      "[10, False]\n",
      "[4, True]\n",
      "(int 10)\n",
      "(int 17)\n",
      "27 True\n"
     ]
    },
    {
     "data": {
      "text/plain": [
       "27.0"
      ]
     },
     "execution_count": 6,
     "metadata": {},
     "output_type": "execute_result"
    }
   ],
   "source": [
    "#### Test\n",
    "#b = PInt(4,True)\n",
    "#print(b.getValue())\n",
    "#print(b.getDefined())\n",
    "#a=PInt(4)\n",
    "#print(a.getValue())\n",
    "#print(a.getDefined())\n",
    "#print(a==b)\n",
    "#print(a.getTypeName())\n",
    "#print(a.getTypeClass())\n",
    "#l=[10, False]\n",
    "#a.InFromList(l)\n",
    "#print(a.getValue())\n",
    "#print(a.getDefined())\n",
    "#print(a.OutToList())\n",
    "#print(b.OutToList())\n",
    "#print(a)\n",
    "#c = a.parse(\"17\")\n",
    "#print(c)\n",
    "#a.setDefined(True)\n",
    "#d = a + c\n",
    "#print(d.getValue(), d.getDefined())\n",
    "#d.toFloat()"
   ]
  },
  {
   "cell_type": "code",
   "execution_count": null,
   "metadata": {},
   "outputs": [],
   "source": []
  }
 ],
 "metadata": {
  "kernelspec": {
   "display_name": "Python 3",
   "language": "python",
   "name": "python3"
  },
  "language_info": {
   "codemirror_mode": {
    "name": "ipython",
    "version": 3
   },
   "file_extension": ".py",
   "mimetype": "text/x-python",
   "name": "python",
   "nbconvert_exporter": "python",
   "pygments_lexer": "ipython3",
   "version": "3.7.4"
  }
 },
 "nbformat": 4,
 "nbformat_minor": 2
}
